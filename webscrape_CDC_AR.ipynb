{
 "cells": [
  {
   "cell_type": "code",
   "execution_count": 1,
   "metadata": {},
   "outputs": [],
   "source": [
    "import pandas as pd\n",
    "from splinter import Browser\n",
    "# from bs4 import BeautifulSoup as bs\n",
    "import time"
   ]
  },
  {
   "cell_type": "code",
   "execution_count": 2,
   "metadata": {},
   "outputs": [],
   "source": [
    "url = \"https://gis.cdc.gov/grasp/PSA/MapView.html\""
   ]
  },
  {
   "cell_type": "code",
   "execution_count": 3,
   "metadata": {},
   "outputs": [],
   "source": [
    "def init_browser():\n",
    "    executable_path = {\"executable_path\": \"../../chromedriver.exe\"}\n",
    "#     later change headless to true to see if it helps with errors I think are load time related\n",
    "    return Browser(\"chrome\", **executable_path, headless=False)"
   ]
  },
  {
   "cell_type": "code",
   "execution_count": 4,
   "metadata": {},
   "outputs": [],
   "source": [
    "browser = init_browser()\n",
    "browser.visit(url)"
   ]
  },
  {
   "cell_type": "code",
   "execution_count": 5,
   "metadata": {},
   "outputs": [],
   "source": [
    "# pause here to let browser catch up, could add time.sleep(5)\n",
    "\n",
    "# Gets by the initial disclaimer popup message\n",
    "proceed = browser.find_by_id(\"btnModalAccept\")\n",
    "proceed.click()"
   ]
  },
  {
   "cell_type": "code",
   "execution_count": 6,
   "metadata": {},
   "outputs": [],
   "source": [
    "browser.find_by_text(\"State Summaries\").click()"
   ]
  },
  {
   "cell_type": "code",
   "execution_count": 7,
   "metadata": {},
   "outputs": [],
   "source": [
    "StateDropdownBtn = browser.find_by_id(\"btnDDLState\").click()\n",
    "\n",
    "states_dropdown = browser.find_by_id(\"ulStateList\").value\n",
    "\n",
    "states = states_dropdown.splitlines()\n",
    "\n",
    "states_to_drop = [\n",
    "    'Regions', 'East North Central', 'East South Central', 'Mid Atlantic', \n",
    "    'Mountain', 'New England', 'Pacific', 'South Atlantic', 'West North Central', \n",
    "    'West South Central', 'States', 'National', '- Select state or Region -'\n",
    "]\n",
    "\n",
    "for i in states_to_drop:\n",
    "    if i in states:\n",
    "        states.remove(i)"
   ]
  },
  {
   "cell_type": "code",
   "execution_count": 8,
   "metadata": {},
   "outputs": [],
   "source": [
    "EventTypeDropdownBtn = browser.find_by_id(\"btnDDLEventType\").click()\n",
    "\n",
    "event_dropdown = browser.find_by_id(\"ulEventType\").value\n",
    "\n",
    "event_type = event_dropdown.splitlines()\n",
    "\n",
    "event_type.remove('All HAIs')"
   ]
  },
  {
   "cell_type": "code",
   "execution_count": 9,
   "metadata": {},
   "outputs": [],
   "source": [
    "YearsDropdownBtn = browser.find_by_id(\"btnDDLYears\").click()\n",
    "\n",
    "years_dropdown = browser.find_by_id(\"ulYear\").value\n",
    "\n",
    "years = years_dropdown.splitlines()\n",
    "\n",
    "years.remove('All Years')"
   ]
  },
  {
   "cell_type": "code",
   "execution_count": null,
   "metadata": {},
   "outputs": [],
   "source": [
    "scrape_df = pd.DataFrame()\n",
    "\n",
    "for st in states:\n",
    "    browser.find_by_id(\"btnDDLState\").click()\n",
    "    browser.find_by_text(st).click()\n",
    "    \n",
    "    for ev in event_type:\n",
    "        browser.find_by_id(\"btnDDLEventType\").click()\n",
    "        browser.find_by_text(ev).click()\n",
    "        \n",
    "        for yr in years:\n",
    "            browser.find_by_id(\"btnDDLYears\").click()\n",
    "            browser.find_by_text(yr).click()\n",
    "            \n",
    "#           1 second works most of the time but bumped it up to avoid fatal stale element reference error\n",
    "            time.sleep(3)\n",
    "            \n",
    "            tds = browser.find_by_tag(\"td\")\n",
    "            i = 0;\n",
    "            \n",
    "            while i < len(tds):\n",
    "                row = []\n",
    "                j = 0\n",
    "                while j < 7:\n",
    "                    if tds[i].value != \"Gram Positive\" and tds[i].value != \"Gram Negative\" and tds[i].value:\n",
    "                        row.append(tds[i].value)\n",
    "                        j = j + 1\n",
    "                        i = i + 1 \n",
    "                    else:\n",
    "                        i = i + 1      \n",
    "                row.append(ev)\n",
    "                row.append(yr)\n",
    "                scrape_df = scrape_df.append([row], ignore_index=True)\n",
    "                print(row)    \n",
    "                "
   ]
  },
  {
   "cell_type": "code",
   "execution_count": 20,
   "metadata": {},
   "outputs": [],
   "source": [
    "scrape_df.to_csv('CDC_AR_scrape.csv', index=False)"
   ]
  },
  {
   "cell_type": "code",
   "execution_count": 54,
   "metadata": {},
   "outputs": [],
   "source": [
    "browser.quit()"
   ]
  },
  {
   "cell_type": "code",
   "execution_count": null,
   "metadata": {},
   "outputs": [],
   "source": []
  },
  {
   "cell_type": "code",
   "execution_count": null,
   "metadata": {},
   "outputs": [],
   "source": []
  }
 ],
 "metadata": {
  "kernelspec": {
   "display_name": "ut_data",
   "language": "python",
   "name": "ut_data"
  },
  "language_info": {
   "codemirror_mode": {
    "name": "ipython",
    "version": 3
   },
   "file_extension": ".py",
   "mimetype": "text/x-python",
   "name": "python",
   "nbconvert_exporter": "python",
   "pygments_lexer": "ipython3",
   "version": "3.7.2"
  }
 },
 "nbformat": 4,
 "nbformat_minor": 2
}
